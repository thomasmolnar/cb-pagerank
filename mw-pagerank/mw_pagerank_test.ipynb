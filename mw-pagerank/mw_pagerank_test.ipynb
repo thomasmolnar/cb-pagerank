{
 "cells": [
  {
   "cell_type": "code",
   "execution_count": 14,
   "metadata": {},
   "outputs": [
    {
     "data": {
      "text/plain": [
       "'/Users/Thomas/Desktop/deepreason/gen-sim/mw-pagerank'"
      ]
     },
     "execution_count": 14,
     "metadata": {},
     "output_type": "execute_result"
    }
   ],
   "source": [
    "import os\n",
    "os.getcwd()"
   ]
  },
  {
   "cell_type": "code",
   "execution_count": 22,
   "metadata": {},
   "outputs": [],
   "source": [
    "import matplotlib.pyplot as plt\n",
    "import networkx as nx\n",
    "import numpy as np\n",
    "import random\n",
    "import csv\n",
    "import torch as th\n",
    "import importlib\n",
    "import algorithms.ranker\n",
    "import algorithms.grad_descent\n",
    "importlib.reload(algorithms.grad_descent)\n",
    "importlib.reload(algorithms.ranker)\n",
    "from algorithms.ranker import Ranker\n",
    "from algorithms.grad_descent import GradDescent\n"
   ]
  },
  {
   "cell_type": "markdown",
   "metadata": {},
   "source": [
    "## Define device for possible GPU or CPU computations"
   ]
  },
  {
   "cell_type": "code",
   "execution_count": 2,
   "metadata": {},
   "outputs": [],
   "source": [
    "device = 'cuda' if th.cuda.is_available() else 'cpu'"
   ]
  },
  {
   "cell_type": "markdown",
   "metadata": {},
   "source": [
    "## Preprocessing: Create and store complete company only KG with normalised attributes"
   ]
  },
  {
   "cell_type": "code",
   "execution_count": 17,
   "metadata": {},
   "outputs": [
    {
     "name": "stdout",
     "output_type": "stream",
     "text": [
      "Loading data...\n",
      "Loading nodes...\n",
      "599 destination nodes and 9401 negative nodes loaded\n",
      "Loading edges...\n",
      "Loaded 9999 nodes\n",
      "Loaded 995047 edges\n"
     ]
    }
   ],
   "source": [
    "FULL_KG_COMP = '../dump/kg/full_company_kg.csv'\n",
    "\n",
    "G_full = nx.DiGraph()\n",
    "\n",
    "#Extract data from dump csv file of training data\n",
    "print('Loading data...')\n",
    "with open(FULL_KG_COMP, encoding='utf8') as csv_file:\n",
    "    reader = csv.DictReader(csv_file, delimiter=',', quotechar='\\\"',\n",
    "                            fieldnames=[\"id_organization\",\"uuid\",\"funding_rounds\",\"funding_total_usd\",\n",
    "                                        \"employee_count\", \"filter\"])\n",
    "    next(reader)\n",
    "    \n",
    "    #Normalize attributes to have mean 0 and standard deviation of 1, which equalises different computations using model\n",
    "    funding_rounds = list()\n",
    "    funding_total = list()\n",
    "    employee_count = list()\n",
    "    \n",
    "    for row in reader:\n",
    "        funding_rounds.append(float(0) if row[\"funding_rounds\"]=='NULL' else float(row[\"funding_rounds\"]))\n",
    "        funding_total.append(float(0) if row[\"funding_total_usd\"]=='NULL' else float(row[\"funding_total_usd\"]))\n",
    "        if '-' in row[\"employee_count\"]:\n",
    "            count = row[\"employee_count\"].split('-')\n",
    "            if count[0]=='Nov' or count[1]=='Oct':\n",
    "                employee_count.append(float(0))\n",
    "            else:\n",
    "                avg = (float(count[0])+float(count[1]))/2.\n",
    "                employee_count.append(avg)\n",
    "        elif '+' in row[\"employee_count\"]:\n",
    "            emp_count=float(row[\"employee_count\"].replace('+', ''))\n",
    "            employee_count.append(emp_count)\n",
    "        else:\n",
    "             employee_count.append(float(0))\n",
    "    \n",
    "    mean_fund_rounds, var_fund_rounds = np.mean(funding_rounds), np.var(funding_rounds)\n",
    "    mean_fund_tot, var_fund_tot = np.mean(funding_total), np.var(funding_total)\n",
    "    mean_emp_count, var_emp_count = np.mean(employee_count), np.var(employee_count)\n",
    "    \n",
    "    \n",
    "print('Loading nodes...')\n",
    "#Now iterate through reader object once more, creating full graph with normalised attributes\n",
    "with open(FULL_KG_COMP, encoding='utf8') as csv_file:\n",
    "    reader = csv.DictReader(csv_file, delimiter=',', quotechar='\\\"',\n",
    "                            fieldnames=[\"id_organization\",\"uuid\",\"funding_rounds\",\"funding_total_usd\",\n",
    "                                        \"employee_count\", \"filter\"])\n",
    "    next(reader)\n",
    "    \n",
    "    #Subdivision into Spectrum list/Random company nodes\n",
    "    dest_nodes = list()\n",
    "    no_link_nodes = list()  \n",
    "    \n",
    "    it = 0\n",
    "    for row in reader:\n",
    "        if it < 10000:\n",
    "            pass\n",
    "        else:\n",
    "            break\n",
    "        if '-' in row[\"employee_count\"]:\n",
    "            count = row[\"employee_count\"].split('-')\n",
    "            if count[0]=='Nov' or count[1]=='Oct':\n",
    "                emp_count = float(0)\n",
    "            else:\n",
    "                avg = (float(count[0])+float(count[1]))/2.\n",
    "                emp_count = (avg-mean_emp_count)/np.sqrt(var_emp_count)\n",
    "        elif '+' in row[\"employee_count\"]:\n",
    "            emp_count=(float(row[\"employee_count\"].replace('+', ''))-mean_emp_count)/np.sqrt(var_emp_count)\n",
    "        else:\n",
    "            emp_count = float(0)\n",
    "        \n",
    "        G_full.add_node(row[\"uuid\"],\n",
    "                    type=\"Company\",\n",
    "                    id=int(row[\"id_organization\"]),\n",
    "                    funding_rounds=0 if row[\"funding_rounds\"]=='NULL' or None else (float(row[\"funding_rounds\"])-mean_fund_rounds)/np.sqrt(var_fund_rounds),\n",
    "                    funding_total_usd=0 if row[\"funding_total_usd\"]=='NULL' or None else (float(row[\"funding_total_usd\"])-mean_fund_tot)/np.sqrt(var_fund_tot),\n",
    "                    employee_count=emp_count)\n",
    "        \n",
    "        #Subdivide nodes into positive 'bias' nodes and negative no-link nodes\n",
    "        if row[\"filter\"]==str(1):\n",
    "            dest_nodes.append(row[\"uuid\"])\n",
    "        else:\n",
    "            no_link_nodes.append(row[\"uuid\"])\n",
    "            \n",
    "        it+=1\n",
    "            \n",
    "print('{} destination nodes and {} negative nodes loaded'.format(len(dest_nodes), len(no_link_nodes)))\n",
    "print('Loading edges...')\n",
    "\n",
    "#Add egdes between a company and 10 randomly selected companies (as test for method)\n",
    "nodes = list(G_full.nodes(data=True))\n",
    "row=0\n",
    "for i in G_full.nodes(data=True):\n",
    "    for j in range(100):\n",
    "        rand = random.randint(0, len(G_full.nodes)-1)\n",
    "        v = nodes[rand]\n",
    "        G_full.add_edge(i[0], v[0], funding_rounds_1=i[1][\"funding_rounds\"],\n",
    "            funding_rounds_2=v[1][\"funding_rounds\"], funding_total_usd_1=i[1][\"funding_total_usd\"],\n",
    "            funding_total_usd_2=v[1][\"funding_total_usd\"], employee_count_1=i[1][\"employee_count\"],\n",
    "            employee_count_2=v[1][\"employee_count\"])\n",
    "    row+=1\n",
    "    if row%10000==0:\n",
    "        print('edges for {} nodes loaded'.format(row))\n",
    "    \n",
    "print('Loaded {0} nodes'.format(len(G_full.nodes)))\n",
    "print('Loaded {0} edges'.format(nx.number_of_edges(G_full)))"
   ]
  },
  {
   "cell_type": "markdown",
   "metadata": {},
   "source": [
    "### From full company KG, extract training data in the form of an ordered subgraph: starting with 250 positive example nodes, selected from Spectrum list, following 250 negative example nodes, selected randomly from remaining KG."
   ]
  },
  {
   "cell_type": "code",
   "execution_count": 8,
   "metadata": {},
   "outputs": [
    {
     "name": "stdout",
     "output_type": "stream",
     "text": [
      "Loaded 500 training nodes\n",
      "Loaded 4902 training edges\n"
     ]
    }
   ],
   "source": [
    "numb_spectrum = len(dest_nodes)\n",
    "numb_rest = len(no_link_nodes)\n",
    "ntrain = int(500)\n",
    "\n",
    "train_nodes = list()\n",
    "\n",
    "random_seed_pos = random.sample(range(0, numb_spectrum), 250)\n",
    "random_seed_neg = random.sample(range(0, numb_rest), 250)\n",
    "\n",
    "while len(random_seed_pos) < 250:\n",
    "    rand = random.randint(0, numb_spectrum-1)\n",
    "    if rand in random_seed_pos:\n",
    "        pass\n",
    "    else:\n",
    "        random_seed_pos.append(rand)\n",
    "while len(random_seed_neg) < 250:\n",
    "    rand = random.randint(0, numb_rest-1)\n",
    "    if rand in random_seed_neg:\n",
    "        pass\n",
    "    else:\n",
    "        random_seed_neg.append(rand)\n",
    "\n",
    "for i in random_seed_pos:\n",
    "    train_nodes.append(dest_nodes[i])\n",
    "for i in random_seed_neg:\n",
    "    train_nodes.append(no_link_nodes[i])\n",
    "\n",
    "G_train = G_full.subgraph(train_nodes)\n",
    "print('Loaded {0} training nodes'.format(len(G_train.nodes)))\n",
    "print('Loaded {0} training edges'.format(nx.number_of_edges(G_train)))"
   ]
  },
  {
   "cell_type": "markdown",
   "metadata": {},
   "source": [
    "## Generate feature matrix and adjacency matrix from KG\n",
    "### Create feature matrix with inherent graph structure taken into account (i.e. when no edge exists between two nodes a null feature vector is associated with the edge in the matrix)"
   ]
  },
  {
   "cell_type": "code",
   "execution_count": 4,
   "metadata": {},
   "outputs": [],
   "source": [
    "def gen_feature_matrix(G, nnodes, nfeats, device):\n",
    "    #Instantiate feature matrix with correct shape\n",
    "    feature_matrix = th.zeros(nnodes, nnodes, nfeats, dtype=th.float, device=device)\n",
    "    \n",
    "    #Add relevant feature vectors\n",
    "    nodes = list(G)\n",
    "    nodes_i = {nodes[i]: i for i in range(len(nodes))}\n",
    "    for u in nodes:\n",
    "        v_n = set(G.successors(u))\n",
    "        for v in v_n:\n",
    "            feat_vect = list()\n",
    "            feat_vect.append(G[u][v][\"funding_rounds_1\"])\n",
    "            feat_vect.append(G[u][v][\"funding_rounds_2\"])\n",
    "            feat_vect.append(G[u][v][\"funding_total_usd_1\"])\n",
    "            feat_vect.append(G[u][v][\"funding_total_usd_2\"])\n",
    "            feat_vect.append(G[u][v][\"employee_count_1\"])\n",
    "            feat_vect.append(G[u][v][\"employee_count_2\"])\n",
    "            ind_u = nodes_i[u]\n",
    "            ind_v = nodes_i[v]\n",
    "            feat_vect = th.tensor(feat_vect, dtype=th.float, device=device)\n",
    "            feature_matrix[ind_u,ind_v]=feat_vect\n",
    "\n",
    "    return feature_matrix\n",
    "\n",
    "#Create adjacenecy matrix supported by Pytorch \n",
    "def gen_adj_matrix(G, nnodes, nfeats, device):\n",
    "    adj_matrix = nx.to_numpy_matrix(G)\n",
    "    adj_matrix = th.tensor(adj_matrix, dtype=th.float, device=device)\n",
    "    return adj_matrix"
   ]
  },
  {
   "cell_type": "markdown",
   "metadata": {},
   "source": [
    "## Perform supervised random walk with restarts on training data to compute optimised weights\n",
    "### where G_train is the training graph and N is the limiting index denoting that the first N nodes of the training set consists of positive 'bias' nodes (and the rest are negative 'no-link' nodes), for every  source node in the algorithm. "
   ]
  },
  {
   "cell_type": "code",
   "execution_count": 24,
   "metadata": {},
   "outputs": [
    {
     "name": "stdout",
     "output_type": "stream",
     "text": [
      "Loading optimised weights...\n",
      "Epoch=0, f_w=tensor([-1.3891], grad_fn=<AddBackward0>), weights=tensor([0., 0., 0., 0., 0., 0.], requires_grad=True), grad=tensor([-29.6975, 262.1623, -16.0228,  46.1123,  33.0193, -26.5451]) (27.850332021713257s)\n",
      "Epoch=1, f_w=tensor([-69.1064], grad_fn=<AddBackward0>), weights=tensor([ 0.0594, -0.5243,  0.0320, -0.0922, -0.0660,  0.0531],\n",
      "       requires_grad=True), grad=tensor([-114.9421,   49.3165,  -38.2113,    3.0204,   12.0980,  -79.4680]) (26.072743892669678s)\n",
      "Epoch=2, f_w=tensor([-277.7714], grad_fn=<AddBackward0>), weights=tensor([ 0.3427, -1.0948,  0.1373, -0.1813, -0.1497,  0.2598],\n",
      "       requires_grad=True), grad=tensor([-715.5901,  110.4926, -163.5978,    7.5615,   -3.7645, -762.0476]) (24.114773988723755s)\n",
      "Epoch=3, f_w=tensor([-5106.0459], grad_fn=<AddBackward0>), weights=tensor([ 2.0289, -1.8293,  0.5592, -0.2765, -0.2174,  1.9699],\n",
      "       requires_grad=True), grad=tensor([-420.6210,  212.3301,  -98.3852,   51.3088,   30.6344,    1.7112]) (24.678485870361328s)\n",
      "Epoch=4, f_w=tensor([-5675.1533], grad_fn=<AddBackward0>), weights=tensor([ 4.3877, -2.9150,  1.1358, -0.4649, -0.3396,  3.5057],\n",
      "       requires_grad=True), grad=tensor([-5952.7188,   358.5784,  -798.4019,    16.6914,    24.2151, -3075.7512]) (23.667094945907593s)\n",
      "Epoch=5, f_w=tensor([nan], grad_fn=<AddBackward0>), weights=tensor([18.4161, -4.6092,  3.2514, -0.6678, -0.4981, 11.0393],\n",
      "       requires_grad=True), grad=tensor([nan, nan, nan, nan, nan, nan]) (43.3765389919281s)\n",
      "Loss function and gradients computed is nan\n",
      "Optimised weights are tensor([18.4161, -4.6092,  3.2514, -0.6678, -0.4981, 11.0393],\n",
      "       requires_grad=True)\n"
     ]
    }
   ],
   "source": [
    "def rand_walker(G_train, limit_ind, device):\n",
    "    nnodes = len(G_train.nodes)\n",
    "    nfeats = int(6)\n",
    "    \n",
    "    #Instantiate training set\n",
    "    train_feat = gen_feature_matrix(G_train, nnodes, nfeats, device)\n",
    "    \n",
    "    print('Loading optimised weights...')\n",
    "    bias_train = GradDescent(train_feat, device, limit_ind)\n",
    "    opt_weights = bias_train.grad_iterator()\n",
    "    print('Optimised weights are {}'.format(opt_weights))\n",
    "    \n",
    "    return opt_weights\n",
    "\n",
    "limit_ind = 250\n",
    "opt_weights = rand_walker(G_train, limit_ind, device)"
   ]
  },
  {
   "cell_type": "markdown",
   "metadata": {},
   "source": [
    "## Now examine similarity ranking for the whole company KG, computed using optimised weights"
   ]
  },
  {
   "cell_type": "code",
   "execution_count": 18,
   "metadata": {},
   "outputs": [
    {
     "name": "stdout",
     "output_type": "stream",
     "text": [
      "Loading full graph feature matrix...\n",
      "Loading full graph PageRank with optimised weights...\n",
      "Loading graph of similarity ranking...\n"
     ]
    },
    {
     "name": "stderr",
     "output_type": "stream",
     "text": [
      "No handles with labels found to put in legend.\n",
      "No handles with labels found to put in legend.\n"
     ]
    },
    {
     "data": {
      "image/png": "[encoded data removed]",
      "text/plain": [
       "<Figure size 432x288 with 2 Axes>"
      ]
     },
     "metadata": {},
     "output_type": "display_data"
    }
   ],
   "source": [
    "print('Loading full graph feature matrix...')\n",
    "all_nnodes = len(G_full.nodes)\n",
    "all_nfeats = int(6)\n",
    "full_feat_matrix = gen_feature_matrix(G_full, all_nnodes, all_nfeats, device)\n",
    "\n",
    "print('Loading full graph PageRank with optimised weights...')\n",
    "source_node = random.randint(0, all_nnodes-1)\n",
    "opt_weights = th.tensor([ 3.4088, -1.2349, -2.2977, -4.1775,  3.2512,  1.4724], dtype=th.float, device=device)\n",
    "full_ranker = Ranker(all_nnodes, all_nfeats, opt_weights, full_feat_matrix, device)\n",
    "full_rw_matrix = full_ranker.rw_matrix()\n",
    "p_scores = full_ranker.rwr_iter(full_rw_matrix, source_node) \n",
    "p_scores = th.squeeze(p_scores)\n",
    "\n",
    "#Order PR scores\n",
    "scores_i = {i: p_scores[i] for i in range(all_nnodes)}\n",
    "new_ranking = sorted(scores_i, key=scores_i.get, reverse=True)\n",
    "\n",
    "print('Loading graph of similarity ranking...')\n",
    "#Check graph of bias nodes\n",
    "step = 0\n",
    "steps = []\n",
    "intersection = []\n",
    "bias_nodes = set(range(numb_spectrum))\n",
    "while step < all_nnodes:\n",
    "    steps.append(step)\n",
    "    top_scores = len(set(new_ranking[:step]).intersection(bias_nodes))\n",
    "    intersection.append(top_scores)\n",
    "    step += 5\n",
    "\n",
    "#Plot graph\n",
    "fig, axes = plt.subplots(1, 2)\n",
    "\n",
    "axes[0].plot(steps, intersection)\n",
    "axes[1].plot(steps, intersection)\n",
    "\n",
    "axes[0].legend(loc='lower right')\n",
    "axes[0].set_xlabel('Total number of nodes considered')\n",
    "axes[0].set_ylabel('Number of Spectrum list nodes found at top of ranking')\n",
    "axes[1].set_title('Similarity ranking for company - company KG')\n",
    "axes[1].set_xlabel('Log scale')\n",
    "axes[1].legend(loc='upper left')\n",
    "axes[1].set_xscale('log')\n",
    "plt.show()"
   ]
  },
  {
   "cell_type": "code",
   "execution_count": null,
   "metadata": {},
   "outputs": [],
   "source": [
    "test weights: [ 2.8570, -1.2716, -0.5069, -1.5464,  0.5123,  2.2788]"
   ]
  }
 ],
 "metadata": {
  "kernelspec": {
   "display_name": "Python 3",
   "language": "python",
   "name": "python3"
  },
  "language_info": {
   "codemirror_mode": {
    "name": "ipython",
    "version": 3
   },
   "file_extension": ".py",
   "mimetype": "text/x-python",
   "name": "python",
   "nbconvert_exporter": "python",
   "pygments_lexer": "ipython3",
   "version": "3.8.3"
  }
 },
 "nbformat": 4,
 "nbformat_minor": 4
}
