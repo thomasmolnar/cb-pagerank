{
 "cells": [
  {
   "cell_type": "markdown",
   "metadata": {
    "colab_type": "text",
    "id": "FgblT_tbNMQS"
   },
   "source": [
    "# Generate synthetic testcase for similarity ranking using a Supervised Random Walk with Restarts [Backstrom et al] implemented in Pytorch "
   ]
  },
  {
   "cell_type": "code",
   "execution_count": 2,
   "metadata": {
    "colab": {},
    "colab_type": "code",
    "id": "2cs6iexDord0"
   },
   "outputs": [],
   "source": [
    "import random\n",
    "import torch as th\n",
    "import numpy as np\n",
    "import matplotlib.pyplot as plt\n",
    "from torchviz import make_dot\n",
    "import importlib\n",
    "import algorithms.ranker\n",
    "import algorithms.grad_descent\n",
    "importlib.reload(algorithms.grad_descent)\n",
    "importlib.reload(algorithms.ranker)\n",
    "from algorithms.ranker import Ranker\n",
    "from algorithms.grad_descent import GradDescent\n",
    "import time"
   ]
  },
  {
   "cell_type": "markdown",
   "metadata": {
    "colab_type": "text",
    "id": "QR29CmfaHkW6"
   },
   "source": [
    "## Generate full synthetic graph with edge attributes as one-hot-encoding of 'colours' with the following key [red, green, blue, yellow, orange]\n",
    "### e.g. a 'red' edge would encoded as [1, 0, 0, 0, 0]"
   ]
  },
  {
   "cell_type": "markdown",
   "metadata": {},
   "source": [
    "### First generate a feature matrix, where each element of the matrix a_ij represents the edge attribute vector from node i to node j, with the graph structure (i.e. adjacency matrix structure) inherent. "
   ]
  },
  {
   "cell_type": "code",
   "execution_count": 3,
   "metadata": {
    "colab": {},
    "colab_type": "code",
    "id": "nnyN1-TEHjmr",
    "scrolled": true
   },
   "outputs": [
    {
     "name": "stdout",
     "output_type": "stream",
     "text": [
      "0 rows loaded\n",
      "100 rows loaded\n",
      "200 rows loaded\n",
      "300 rows loaded\n",
      "400 rows loaded\n",
      "500 rows loaded\n",
      "600 rows loaded\n",
      "700 rows loaded\n",
      "800 rows loaded\n",
      "900 rows loaded\n",
      "1000 rows loaded\n",
      "1100 rows loaded\n",
      "1200 rows loaded\n",
      "1300 rows loaded\n",
      "1400 rows loaded\n",
      "1500 rows loaded\n",
      "1600 rows loaded\n",
      "1700 rows loaded\n",
      "1800 rows loaded\n",
      "1900 rows loaded\n",
      "2000 rows loaded\n",
      "2100 rows loaded\n",
      "2200 rows loaded\n",
      "2300 rows loaded\n",
      "2400 rows loaded\n",
      "2500 rows loaded\n",
      "2600 rows loaded\n",
      "2700 rows loaded\n",
      "2800 rows loaded\n",
      "2900 rows loaded\n",
      "3000 rows loaded\n",
      "3100 rows loaded\n",
      "3200 rows loaded\n",
      "3300 rows loaded\n",
      "3400 rows loaded\n",
      "3500 rows loaded\n",
      "3600 rows loaded\n",
      "3700 rows loaded\n",
      "3800 rows loaded\n",
      "3900 rows loaded\n",
      "4000 rows loaded\n",
      "4100 rows loaded\n",
      "4200 rows loaded\n",
      "4300 rows loaded\n",
      "4400 rows loaded\n",
      "4500 rows loaded\n",
      "4600 rows loaded\n",
      "4700 rows loaded\n",
      "4800 rows loaded\n",
      "4900 rows loaded\n"
     ]
    }
   ],
   "source": [
    "device = 'cuda' if th.cuda.is_available() else 'cpu'\n",
    "\n",
    "# Generate random adjacency matrix\n",
    "nnodes = 5000\n",
    "ntrain = 100\n",
    "nfeats = 5\n",
    "\n",
    "rand_m = th.empty(nnodes, nnodes, dtype=th.float, device=device).uniform_(0,1)\n",
    "adj_m = th.bernoulli(rand_m)\n",
    "\n",
    "# Generate random colour features for each present edge\n",
    "feat_matrix = th.zeros(nnodes, nnodes, nfeats, dtype=th.float, device=device)\n",
    "it = 0\n",
    "for i in range(nnodes):\n",
    "    for j in range(nnodes):\n",
    "        feat_vect = th.zeros(nfeats, dtype=th.float, device=device)\n",
    "        if adj_m[i,j]==1:\n",
    "            rand = random.randint(0,4)\n",
    "            feat_vect[rand]+=1\n",
    "            feat_matrix[i,j] = feat_vect\n",
    "        else:\n",
    "            feat_matrix[i,j] = feat_vect\n",
    "    if it%100==0:\n",
    "        print('{} rows loaded'.format(it))\n",
    "    it += 1\n"
   ]
  },
  {
   "cell_type": "markdown",
   "metadata": {},
   "source": [
    "## Random Test Case\n",
    "### Firstly, examine the similarity ranking of the full synthetic graph with the 'bias' nodes, achieved by performing a Personalised PageRank with random weights. The performance of the similarity ranking will be analysed by considering a graph outlining the fraction of the bias nodes found to be ranked highest in the whole set. "
   ]
  },
  {
   "cell_type": "code",
   "execution_count": 16,
   "metadata": {},
   "outputs": [
    {
     "name": "stdout",
     "output_type": "stream",
     "text": [
      "Loading graph PageRank...\n"
     ]
    },
    {
     "name": "stderr",
     "output_type": "stream",
     "text": [
      "No handles with labels found to put in legend.\n",
      "No handles with labels found to put in legend.\n"
     ]
    },
    {
     "data": {
      "image/png": "[encoded data removed]",
      "text/plain": [
       "<Figure size 432x288 with 2 Axes>"
      ]
     },
     "metadata": {},
     "output_type": "display_data"
    }
   ],
   "source": [
    "# Initialise random weights\n",
    "rand_weights = th.rand(nfeats, dtype=th.float, device=device)\n",
    "\n",
    "# Full personalised PageRank on whole data set using random 'optimised' weights\n",
    "print('Loading graph PageRank...')\n",
    "source_node = random.randint(0, nnodes)\n",
    "full_ranker = Ranker(nnodes, nfeats, rand_weights, feat_matrix, device)\n",
    "rw_matrix = full_ranker.rw_matrix()\n",
    "p_scores = full_ranker.rwr_iter(rw_matrix, source_node)\n",
    "p_scores = th.transpose(p_scores, 0, 1)\n",
    "\n",
    "# Order PageRank scores in descending order\n",
    "scores_i = {i: p_scores[i] for i in range(nnodes)}\n",
    "new_ranking = sorted(scores_i, key=scores_i.get, reverse=True)\n",
    "\n",
    "# Check graph of bias node ranking \n",
    "step = 0\n",
    "steps = []\n",
    "intersection = []\n",
    "bias_nodes = set(range(ntrain//2))\n",
    "while step < nnodes:\n",
    "    steps.append(step)\n",
    "    numb = len(set(new_ranking[:step]).intersection(bias_nodes))\n",
    "    intersection.append(numb)\n",
    "    step += 5\n",
    "\n",
    "#Plot graph\n",
    "fig, axes = plt.subplots(1, 2)\n",
    "\n",
    "axes[0].plot(steps, intersection)\n",
    "axes[1].plot(steps, intersection)\n",
    "\n",
    "axes[0].legend(loc='lower right')\n",
    "axes[0].set_xlabel('Total number of nodes considered')\n",
    "axes[0].set_ylabel('Number of nodes found in bias list')\n",
    "axes[0].set_title('Similarity ranking for synthetic KG')\n",
    "axes[1].set_xlabel('Log scale')\n",
    "axes[1].legend(loc='upper left')\n",
    "axes[1].set_xscale('log')\n",
    "plt.show()"
   ]
  },
  {
   "cell_type": "markdown",
   "metadata": {},
   "source": [
    "## Bias Test Case"
   ]
  },
  {
   "cell_type": "markdown",
   "metadata": {
    "colab_type": "text",
    "id": "0sVz6ardQYxW"
   },
   "source": [
    "### From full graph introduce a specific bias for the first |ntrain|/2 nodes, which will be considered as the positive destination nodes when performing the random walk with restarts. Then examine similarity ranking using truly optimised weights."
   ]
  },
  {
   "cell_type": "code",
   "execution_count": 10,
   "metadata": {
    "colab": {
     "base_uri": "https://localhost:8080/",
     "height": 1000
    },
    "colab_type": "code",
    "executionInfo": {
     "elapsed": 130891,
     "status": "ok",
     "timestamp": 1565773346431,
     "user": {
      "displayName": "Thomas Molnar",
      "photoUrl": "",
      "userId": "03687863401166405991"
     },
     "user_tz": -120
    },
    "id": "d_oD7aUEbHRE",
    "outputId": "7b285ad3-8f20-4211-8467-90d8b8e92405"
   },
   "outputs": [
    {
     "name": "stdout",
     "output_type": "stream",
     "text": [
      "Loading optimised weights...\n",
      "Epoch=0, f_w=tensor([-0.0190], grad_fn=<AddBackward0>), weights=tensor([0., 0., 0., 0., 0.], requires_grad=True), grad=tensor([-1533.3270,   168.6996,   166.9496,   178.1496,   163.4496]) (0.7445230484008789s)\n",
      "Epoch=1, f_w=tensor([-1950.8800], grad_fn=<AddBackward0>), weights=tensor([ 1.5333, -0.1687, -0.1669, -0.1781, -0.1634], requires_grad=True), grad=tensor([-783.2157,   80.2567,   76.7123,   81.0393,   76.9842]) (0.7883939743041992s)\n",
      "Epoch=2, f_w=tensor([-2721.6763], grad_fn=<AddBackward0>), weights=tensor([ 3.3899, -0.3670, -0.3605, -0.3839, -0.3548], requires_grad=True), grad=tensor([-151.0500,   13.9053,   13.1359,   13.7162,   13.1855]) (0.7883741855621338s)\n",
      "Epoch=3, f_w=tensor([-2841.5386], grad_fn=<AddBackward0>), weights=tensor([ 4.8405, -0.5198, -0.5092, -0.5416, -0.5020], requires_grad=True), grad=tensor([-34.7430,   2.8884,   2.7268,   2.8180,   2.7326]) (0.808480978012085s)\n",
      "Epoch=4, f_w=tensor([-2864.2554], grad_fn=<AddBackward0>), weights=tensor([ 5.8907, -0.6296, -0.6159, -0.6549, -0.6078], requires_grad=True), grad=tensor([-11.2520,   0.8470,   0.7992,   0.8177,   0.8020]) (0.8135669231414795s)\n",
      "Epoch=5, f_w=tensor([-2870.0286], grad_fn=<AddBackward0>), weights=tensor([ 6.6371, -0.7073, -0.6915, -0.7349, -0.6826], requires_grad=True), grad=tensor([-4.7102,  0.3148,  0.2959,  0.2986,  0.2980]) (0.7786870002746582s)\n",
      "Epoch=6, f_w=tensor([-2871.8540], grad_fn=<AddBackward0>), weights=tensor([ 7.1642, -0.7620, -0.7447, -0.7913, -0.7353], requires_grad=True), grad=tensor([-2.3337,  0.1305,  0.1213,  0.1193,  0.1231]) (0.7746260166168213s)\n",
      "Epoch=7, f_w=tensor([-2872.4995], grad_fn=<AddBackward0>), weights=tensor([ 7.5356, -0.8005, -0.7820, -0.8309, -0.7723], requires_grad=True), grad=tensor([-1.2840,  0.0519,  0.0467,  0.0429,  0.0484]) (0.7895669937133789s)\n",
      "Epoch=8, f_w=tensor([-2872.8525], grad_fn=<AddBackward0>), weights=tensor([ 7.7968, -0.8274, -0.8082, -0.8586, -0.7982], requires_grad=True), grad=tensor([-0.7520,  0.0130,  0.0098,  0.0053,  0.0114]) (0.8014340400695801s)\n",
      "Epoch=9, f_w=tensor([-2872.9624], grad_fn=<AddBackward0>), weights=tensor([ 7.9805, -0.8463, -0.8265, -0.8780, -0.8164], requires_grad=True), grad=tensor([-0.4548, -0.0083, -0.0104, -0.0154, -0.0089]) (0.7831759452819824s)\n",
      "Epoch=10, f_w=tensor([-2872.9751], grad_fn=<AddBackward0>), weights=tensor([ 8.1094, -0.8595, -0.8394, -0.8916, -0.8291], requires_grad=True), grad=tensor([-0.2775, -0.0209, -0.0224, -0.0276, -0.0209]) (0.81986403465271s)\n",
      "Epoch=11, f_w=tensor([-2872.9617], grad_fn=<AddBackward0>), weights=tensor([ 8.2000, -0.8687, -0.8483, -0.9011, -0.8380], requires_grad=True), grad=tensor([-0.1661, -0.0287, -0.0298, -0.0351, -0.0283]) (0.8197131156921387s)\n",
      "Epoch=12, f_w=tensor([-2872.9539], grad_fn=<AddBackward0>), weights=tensor([ 8.2636, -0.8752, -0.8546, -0.9077, -0.8442], requires_grad=True), grad=tensor([-0.0938, -0.0338, -0.0346, -0.0400, -0.0331]) (0.8700459003448486s)\n",
      "Epoch=13, f_w=tensor([-2872.9546], grad_fn=<AddBackward0>), weights=tensor([ 8.3082, -0.8796, -0.8589, -0.9123, -0.8485], requires_grad=True), grad=tensor([-0.0460, -0.0371, -0.0377, -0.0432, -0.0363]) (0.9146671295166016s)\n",
      "Epoch=14, f_w=tensor([-2872.9609], grad_fn=<AddBackward0>), weights=tensor([ 8.3394, -0.8827, -0.8619, -0.9154, -0.8514], requires_grad=True), grad=tensor([-0.0137, -0.0393, -0.0398, -0.0453, -0.0384]) (0.9063889980316162s)\n",
      "Epoch=15, f_w=tensor([-2872.9670], grad_fn=<AddBackward0>), weights=tensor([ 8.3613, -0.8848, -0.8639, -0.9176, -0.8535], requires_grad=True), grad=tensor([ 0.0085, -0.0408, -0.0413, -0.0468, -0.0398]) (0.7802879810333252s)\n",
      "Epoch=16, f_w=tensor([-2872.9719], grad_fn=<AddBackward0>), weights=tensor([ 8.3766, -0.8863, -0.8653, -0.9191, -0.8549], requires_grad=True), grad=tensor([ 0.0232, -0.0418, -0.0422, -0.0478, -0.0408]) (0.8345742225646973s)\n",
      "Epoch=17, f_w=tensor([-2872.9626], grad_fn=<AddBackward0>), weights=tensor([ 8.3873, -0.8873, -0.8663, -0.9201, -0.8558], requires_grad=True), grad=tensor([ 0.0343, -0.0425, -0.0429, -0.0484, -0.0415]) (0.8371241092681885s)\n",
      "Epoch=18, f_w=tensor([-2872.9553], grad_fn=<AddBackward0>), weights=tensor([ 8.3948, -0.8879, -0.8669, -0.9207, -0.8564], requires_grad=True), grad=tensor([ 0.0413, -0.0430, -0.0433, -0.0489, -0.0419]) (0.8677082061767578s)\n",
      "Epoch=19, f_w=tensor([-2872.9502], grad_fn=<AddBackward0>), weights=tensor([ 8.4000, -0.8883, -0.8673, -0.9211, -0.8568], requires_grad=True), grad=tensor([ 0.0462, -0.0433, -0.0436, -0.0492, -0.0422]) (0.9101991653442383s)\n",
      "Epoch=20, f_w=tensor([-2872.9575], grad_fn=<AddBackward0>), weights=tensor([ 8.4035, -0.8885, -0.8675, -0.9213, -0.8570], requires_grad=True), grad=tensor([ 0.0496, -0.0435, -0.0438, -0.0494, -0.0424]) (0.8725879192352295s)\n",
      "Epoch=21, f_w=tensor([-2872.9568], grad_fn=<AddBackward0>), weights=tensor([ 8.4060, -0.8887, -0.8676, -0.9214, -0.8571], requires_grad=True), grad=tensor([ 0.0520, -0.0437, -0.0440, -0.0495, -0.0426]) (0.8299310207366943s)\n",
      "Epoch=22, f_w=tensor([-2872.9612], grad_fn=<AddBackward0>), weights=tensor([ 8.4077, -0.8887, -0.8677, -0.9215, -0.8572], requires_grad=True), grad=tensor([ 0.0535, -0.0438, -0.0441, -0.0496, -0.0426]) (0.861030101776123s)\n",
      "Epoch=23, f_w=tensor([-2872.9612], grad_fn=<AddBackward0>), weights=tensor([ 8.4088, -0.8887, -0.8676, -0.9214, -0.8572], requires_grad=True), grad=tensor([ 0.0545, -0.0438, -0.0441, -0.0497, -0.0427]) (0.7995328903198242s)\n",
      "Epoch=24, f_w=tensor([-2872.9609], grad_fn=<AddBackward0>), weights=tensor([ 8.4095, -0.8886, -0.8676, -0.9214, -0.8571], requires_grad=True), grad=tensor([ 0.0550, -0.0438, -0.0441, -0.0497, -0.0427]) (0.849564790725708s)\n",
      "Epoch=25, f_w=tensor([-2872.9651], grad_fn=<AddBackward0>), weights=tensor([ 8.4099, -0.8886, -0.8675, -0.9213, -0.8570], requires_grad=True), grad=tensor([ 0.0557, -0.0438, -0.0441, -0.0497, -0.0427]) (0.8434669971466064s)\n",
      "Epoch=26, f_w=tensor([-2872.9624], grad_fn=<AddBackward0>), weights=tensor([ 8.4102, -0.8885, -0.8674, -0.9211, -0.8569], requires_grad=True), grad=tensor([ 0.0557, -0.0438, -0.0441, -0.0497, -0.0427]) (0.8023970127105713s)\n",
      "Epoch=27, f_w=tensor([-2872.9624], grad_fn=<AddBackward0>), weights=tensor([ 8.4103, -0.8883, -0.8673, -0.9210, -0.8568], requires_grad=True), grad=tensor([ 0.0557, -0.0438, -0.0441, -0.0497, -0.0427]) (0.804373025894165s)\n",
      "Epoch=28, f_w=tensor([-2872.9624], grad_fn=<AddBackward0>), weights=tensor([ 8.4104, -0.8882, -0.8671, -0.9209, -0.8567], requires_grad=True), grad=tensor([ 0.0559, -0.0438, -0.0441, -0.0496, -0.0427]) (0.8591370582580566s)\n",
      "Epoch=29, f_w=tensor([-2872.9607], grad_fn=<AddBackward0>), weights=tensor([ 8.4103, -0.8881, -0.8670, -0.9207, -0.8566], requires_grad=True), grad=tensor([ 0.0559, -0.0438, -0.0441, -0.0496, -0.0427]) (0.7951719760894775s)\n",
      "Epoch=30, f_w=tensor([-2872.9626], grad_fn=<AddBackward0>), weights=tensor([ 8.4103, -0.8879, -0.8669, -0.9206, -0.8564], requires_grad=True), grad=tensor([ 0.0557, -0.0438, -0.0440, -0.0496, -0.0426]) (0.8003478050231934s)\n",
      "Epoch=31, f_w=tensor([-2872.9653], grad_fn=<AddBackward0>), weights=tensor([ 8.4101, -0.8878, -0.8667, -0.9204, -0.8563], requires_grad=True), grad=tensor([ 0.0558, -0.0437, -0.0440, -0.0495, -0.0426]) (0.7926690578460693s)\n",
      "Epoch=32, f_w=tensor([-2872.9624], grad_fn=<AddBackward0>), weights=tensor([ 8.4100, -0.8877, -0.8666, -0.9203, -0.8562], requires_grad=True), grad=tensor([ 0.0556, -0.0437, -0.0440, -0.0495, -0.0426]) (0.78804612159729s)\n",
      "Epoch=33, f_w=tensor([-2872.9607], grad_fn=<AddBackward0>), weights=tensor([ 8.4099, -0.8875, -0.8665, -0.9201, -0.8560], requires_grad=True), grad=tensor([ 0.0550, -0.0437, -0.0440, -0.0495, -0.0425]) (0.7872300148010254s)\n",
      "Epoch=34, f_w=tensor([-2872.9617], grad_fn=<AddBackward0>), weights=tensor([ 8.4097, -0.8874, -0.8663, -0.9199, -0.8559], requires_grad=True), grad=tensor([ 0.0552, -0.0436, -0.0439, -0.0494, -0.0425]) (0.7844252586364746s)\n",
      "Epoch=35, f_w=tensor([-2872.9612], grad_fn=<AddBackward0>), weights=tensor([ 8.4095, -0.8872, -0.8662, -0.9198, -0.8557], requires_grad=True), grad=tensor([ 0.0547, -0.0436, -0.0439, -0.0494, -0.0425]) (0.8059799671173096s)\n",
      "Epoch=36, f_w=tensor([-2872.9614], grad_fn=<AddBackward0>), weights=tensor([ 8.4094, -0.8871, -0.8660, -0.9196, -0.8556], requires_grad=True), grad=tensor([ 0.0547, -0.0436, -0.0439, -0.0494, -0.0425]) (0.7961390018463135s)\n",
      "Epoch=37, f_w=tensor([-2872.9617], grad_fn=<AddBackward0>), weights=tensor([ 8.4092, -0.8870, -0.8659, -0.9194, -0.8555], requires_grad=True), grad=tensor([ 0.0543, -0.0435, -0.0438, -0.0493, -0.0424]) (0.815852165222168s)\n",
      "Epoch=38, f_w=tensor([-2872.9619], grad_fn=<AddBackward0>), weights=tensor([ 8.4090, -0.8868, -0.8657, -0.9193, -0.8553], requires_grad=True), grad=tensor([ 0.0542, -0.0435, -0.0438, -0.0493, -0.0424]) (0.803260087966919s)\n",
      "Epoch=39, f_w=tensor([-2872.9622], grad_fn=<AddBackward0>), weights=tensor([ 8.4088, -0.8867, -0.8656, -0.9191, -0.8552], requires_grad=True), grad=tensor([ 0.0541, -0.0435, -0.0438, -0.0493, -0.0424]) (0.8010780811309814s)\n",
      "Epoch=40, f_w=tensor([-2872.9624], grad_fn=<AddBackward0>), weights=tensor([ 8.4087, -0.8865, -0.8654, -0.9189, -0.8550], requires_grad=True), grad=tensor([ 0.0539, -0.0434, -0.0437, -0.0492, -0.0423]) (0.8113811016082764s)\n",
      "Epoch=41, f_w=tensor([-2872.9617], grad_fn=<AddBackward0>), weights=tensor([ 8.4085, -0.8864, -0.8653, -0.9188, -0.8549], requires_grad=True), grad=tensor([ 0.0535, -0.0434, -0.0437, -0.0492, -0.0423]) (0.7868862152099609s)\n",
      "Epoch=42, f_w=tensor([-2872.9617], grad_fn=<AddBackward0>), weights=tensor([ 8.4083, -0.8862, -0.8651, -0.9186, -0.8548], requires_grad=True), grad=tensor([ 0.0534, -0.0434, -0.0437, -0.0492, -0.0423]) (0.7735779285430908s)\n",
      "Epoch=43, f_w=tensor([-2872.9619], grad_fn=<AddBackward0>), weights=tensor([ 8.4081, -0.8861, -0.8650, -0.9185, -0.8546], requires_grad=True), grad=tensor([ 0.0533, -0.0433, -0.0436, -0.0491, -0.0422]) (0.7774701118469238s)\n",
      "Epoch=44, f_w=tensor([-2872.9622], grad_fn=<AddBackward0>), weights=tensor([ 8.4079, -0.8859, -0.8649, -0.9183, -0.8545], requires_grad=True), grad=tensor([ 0.0531, -0.0433, -0.0436, -0.0491, -0.0422]) (0.7844531536102295s)\n",
      "Epoch=45, f_w=tensor([-2872.9563], grad_fn=<AddBackward0>), weights=tensor([ 8.4078, -0.8858, -0.8647, -0.9181, -0.8543], requires_grad=True), grad=tensor([ 0.0528, -0.0433, -0.0436, -0.0490, -0.0422]) (0.8168151378631592s)\n",
      "Epoch=46, f_w=tensor([-2872.9558], grad_fn=<AddBackward0>), weights=tensor([ 8.4076, -0.8856, -0.8646, -0.9180, -0.8542], requires_grad=True), grad=tensor([ 0.0528, -0.0432, -0.0435, -0.0490, -0.0421]) (0.8210361003875732s)\n",
      "Epoch=47, f_w=tensor([-2872.9565], grad_fn=<AddBackward0>), weights=tensor([ 8.4074, -0.8855, -0.8644, -0.9178, -0.8540], requires_grad=True), grad=tensor([ 0.0526, -0.0432, -0.0435, -0.0490, -0.0421]) (0.7748749256134033s)\n",
      "Epoch=48, f_w=tensor([-2872.9568], grad_fn=<AddBackward0>), weights=tensor([ 8.4072, -0.8854, -0.8643, -0.9176, -0.8539], requires_grad=True), grad=tensor([ 0.0524, -0.0432, -0.0435, -0.0489, -0.0421]) (0.7835357189178467s)\n",
      "Epoch=49, f_w=tensor([-2872.9561], grad_fn=<AddBackward0>), weights=tensor([ 8.4071, -0.8852, -0.8641, -0.9175, -0.8538], requires_grad=True), grad=tensor([ 0.0522, -0.0431, -0.0434, -0.0489, -0.0420]) (0.8204047679901123s)\n",
      "Epoch=50, f_w=tensor([-2872.9568], grad_fn=<AddBackward0>), weights=tensor([ 8.4069, -0.8851, -0.8640, -0.9173, -0.8536], requires_grad=True), grad=tensor([ 0.0520, -0.0431, -0.0434, -0.0489, -0.0420]) (0.8196380138397217s)\n",
      "Epoch=51, f_w=tensor([-2872.9570], grad_fn=<AddBackward0>), weights=tensor([ 8.4067, -0.8849, -0.8638, -0.9171, -0.8535], requires_grad=True), grad=tensor([ 0.0519, -0.0431, -0.0434, -0.0488, -0.0420]) (0.7896711826324463s)\n",
      "Epoch=52, f_w=tensor([-2872.9561], grad_fn=<AddBackward0>), weights=tensor([ 8.4065, -0.8848, -0.8637, -0.9170, -0.8533], requires_grad=True), grad=tensor([ 0.0517, -0.0430, -0.0433, -0.0488, -0.0419]) (0.8074281215667725s)\n",
      "Epoch=53, f_w=tensor([-2872.9563], grad_fn=<AddBackward0>), weights=tensor([ 8.4064, -0.8846, -0.8636, -0.9168, -0.8532], requires_grad=True), grad=tensor([ 0.0514, -0.0430, -0.0433, -0.0488, -0.0419]) (0.7837870121002197s)\n",
      "Epoch=54, f_w=tensor([-2872.9565], grad_fn=<AddBackward0>), weights=tensor([ 8.4062, -0.8845, -0.8634, -0.9167, -0.8531], requires_grad=True), grad=tensor([ 0.0511, -0.0430, -0.0433, -0.0487, -0.0419]) (0.7947747707366943s)\n",
      "Epoch=55, f_w=tensor([-2872.9568], grad_fn=<AddBackward0>), weights=tensor([ 8.4060, -0.8844, -0.8633, -0.9165, -0.8529], requires_grad=True), grad=tensor([ 0.0508, -0.0429, -0.0432, -0.0487, -0.0418]) (0.7758011817932129s)\n",
      "Epoch=56, f_w=tensor([-2872.9570], grad_fn=<AddBackward0>), weights=tensor([ 8.4058, -0.8842, -0.8631, -0.9163, -0.8528], requires_grad=True), grad=tensor([ 0.0508, -0.0429, -0.0432, -0.0487, -0.0418]) (0.7767579555511475s)\n",
      "Epoch=57, f_w=tensor([-2872.9573], grad_fn=<AddBackward0>), weights=tensor([ 8.4057, -0.8841, -0.8630, -0.9162, -0.8526], requires_grad=True), grad=tensor([ 0.0505, -0.0429, -0.0432, -0.0486, -0.0418]) (0.7966506481170654s)\n",
      "Epoch=58, f_w=tensor([-2872.9575], grad_fn=<AddBackward0>), weights=tensor([ 8.4055, -0.8839, -0.8628, -0.9160, -0.8525], requires_grad=True), grad=tensor([ 0.0506, -0.0428, -0.0431, -0.0486, -0.0418]) (0.8206291198730469s)\n",
      "Epoch=59, f_w=tensor([-2872.9578], grad_fn=<AddBackward0>), weights=tensor([ 8.4053, -0.8838, -0.8627, -0.9158, -0.8524], requires_grad=True), grad=tensor([ 0.0503, -0.0428, -0.0431, -0.0486, -0.0417]) (0.7806291580200195s)\n",
      "Epoch=60, f_w=tensor([-2872.9580], grad_fn=<AddBackward0>), weights=tensor([ 8.4052, -0.8836, -0.8625, -0.9157, -0.8522], requires_grad=True), grad=tensor([ 0.0500, -0.0428, -0.0431, -0.0485, -0.0417]) (0.787276029586792s)\n",
      "Epoch=61, f_w=tensor([-2872.9536], grad_fn=<AddBackward0>), weights=tensor([ 8.4050, -0.8835, -0.8624, -0.9155, -0.8521], requires_grad=True), grad=tensor([ 0.0497, -0.0427, -0.0430, -0.0485, -0.0417]) (0.7740650177001953s)\n",
      "Epoch=62, f_w=tensor([-2872.9539], grad_fn=<AddBackward0>), weights=tensor([ 8.4048, -0.8834, -0.8623, -0.9154, -0.8519], requires_grad=True), grad=tensor([ 0.0496, -0.0427, -0.0430, -0.0484, -0.0416]) (0.7963600158691406s)\n",
      "Epoch=63, f_w=tensor([-2872.9539], grad_fn=<AddBackward0>), weights=tensor([ 8.4047, -0.8832, -0.8621, -0.9152, -0.8518], requires_grad=True), grad=tensor([ 0.0494, -0.0427, -0.0430, -0.0484, -0.0416]) (0.8139970302581787s)\n",
      "Epoch=64, f_w=tensor([-2872.9541], grad_fn=<AddBackward0>), weights=tensor([ 8.4045, -0.8831, -0.8620, -0.9150, -0.8517], requires_grad=True), grad=tensor([ 0.0492, -0.0426, -0.0429, -0.0484, -0.0416]) (0.7877969741821289s)\n",
      "Epoch=65, f_w=tensor([-2872.9546], grad_fn=<AddBackward0>), weights=tensor([ 8.4043, -0.8829, -0.8618, -0.9149, -0.8515], requires_grad=True), grad=tensor([ 0.0493, -0.0426, -0.0429, -0.0483, -0.0415]) (0.7861897945404053s)\n",
      "Epoch=66, f_w=tensor([-2872.9548], grad_fn=<AddBackward0>), weights=tensor([ 8.4042, -0.8828, -0.8617, -0.9147, -0.8514], requires_grad=True), grad=tensor([ 0.0492, -0.0426, -0.0429, -0.0483, -0.0415]) (0.779555082321167s)\n",
      "Epoch=67, f_w=tensor([-2872.9548], grad_fn=<AddBackward0>), weights=tensor([ 8.4040, -0.8826, -0.8615, -0.9145, -0.8513], requires_grad=True), grad=tensor([ 0.0487, -0.0425, -0.0429, -0.0483, -0.0415]) (0.8028101921081543s)\n",
      "Epoch=68, f_w=tensor([-2872.9551], grad_fn=<AddBackward0>), weights=tensor([ 8.4038, -0.8825, -0.8614, -0.9144, -0.8511], requires_grad=True), grad=tensor([ 0.0484, -0.0425, -0.0428, -0.0482, -0.0414]) (0.8014049530029297s)\n",
      "Epoch=69, f_w=tensor([-2872.9556], grad_fn=<AddBackward0>), weights=tensor([ 8.4037, -0.8824, -0.8613, -0.9142, -0.8510], requires_grad=True), grad=tensor([ 0.0487, -0.0425, -0.0428, -0.0482, -0.0414]) (0.8024449348449707s)\n",
      "Epoch=70, f_w=tensor([-2872.9556], grad_fn=<AddBackward0>), weights=tensor([ 8.4035, -0.8822, -0.8611, -0.9141, -0.8508], requires_grad=True), grad=tensor([ 0.0481, -0.0424, -0.0428, -0.0482, -0.0414]) (0.79018235206604s)\n",
      "Epoch=71, f_w=tensor([-2872.9558], grad_fn=<AddBackward0>), weights=tensor([ 8.4034, -0.8821, -0.8610, -0.9139, -0.8507], requires_grad=True), grad=tensor([ 0.0478, -0.0424, -0.0427, -0.0481, -0.0413]) (0.7983570098876953s)\n",
      "Epoch=72, f_w=tensor([-2872.9561], grad_fn=<AddBackward0>), weights=tensor([ 8.4032, -0.8819, -0.8608, -0.9137, -0.8506], requires_grad=True), grad=tensor([ 0.0476, -0.0424, -0.0427, -0.0481, -0.0413]) (0.7900490760803223s)\n",
      "Epoch=73, f_w=tensor([-2872.9500], grad_fn=<AddBackward0>), weights=tensor([ 8.4030, -0.8818, -0.8607, -0.9136, -0.8504], requires_grad=True), grad=tensor([ 0.0476, -0.0423, -0.0427, -0.0481, -0.0413]) (0.8014698028564453s)\n",
      "Epoch=74, f_w=tensor([-2872.9502], grad_fn=<AddBackward0>), weights=tensor([ 8.4029, -0.8816, -0.8605, -0.9134, -0.8503], requires_grad=True), grad=tensor([ 0.0471, -0.0423, -0.0426, -0.0480, -0.0413]) (0.7949850559234619s)\n",
      "Epoch=75, f_w=tensor([-2872.9504], grad_fn=<AddBackward0>), weights=tensor([ 8.4027, -0.8815, -0.8604, -0.9133, -0.8502], requires_grad=True), grad=tensor([ 0.0469, -0.0423, -0.0426, -0.0480, -0.0412]) (0.7841711044311523s)\n",
      "Epoch=76, f_w=tensor([-2872.9507], grad_fn=<AddBackward0>), weights=tensor([ 8.4026, -0.8814, -0.8603, -0.9131, -0.8500], requires_grad=True), grad=tensor([ 0.0470, -0.0423, -0.0426, -0.0480, -0.0412]) (0.7770688533782959s)\n",
      "Epoch=77, f_w=tensor([-2872.9507], grad_fn=<AddBackward0>), weights=tensor([ 8.4024, -0.8812, -0.8601, -0.9129, -0.8499], requires_grad=True), grad=tensor([ 0.0466, -0.0422, -0.0425, -0.0479, -0.0412]) (0.7840981483459473s)\n",
      "Epoch=78, f_w=tensor([-2872.9512], grad_fn=<AddBackward0>), weights=tensor([ 8.4022, -0.8811, -0.8600, -0.9128, -0.8497], requires_grad=True), grad=tensor([ 0.0464, -0.0422, -0.0425, -0.0479, -0.0411]) (0.7979531288146973s)\n",
      "Epoch=79, f_w=tensor([-2872.9512], grad_fn=<AddBackward0>), weights=tensor([ 8.4021, -0.8809, -0.8598, -0.9126, -0.8496], requires_grad=True), grad=tensor([ 0.0464, -0.0422, -0.0425, -0.0479, -0.0411]) (0.7980060577392578s)\n",
      "Epoch=80, f_w=tensor([-2872.9517], grad_fn=<AddBackward0>), weights=tensor([ 8.4019, -0.8808, -0.8597, -0.9125, -0.8495], requires_grad=True), grad=tensor([ 0.0461, -0.0421, -0.0424, -0.0478, -0.0411]) (0.7802948951721191s)\n",
      "Epoch=81, f_w=tensor([-2872.9517], grad_fn=<AddBackward0>), weights=tensor([ 8.4018, -0.8807, -0.8595, -0.9123, -0.8493], requires_grad=True), grad=tensor([ 0.0462, -0.0421, -0.0424, -0.0478, -0.0410]) (0.7975411415100098s)\n",
      "Epoch=82, f_w=tensor([-2872.9519], grad_fn=<AddBackward0>), weights=tensor([ 8.4016, -0.8805, -0.8594, -0.9121, -0.8492], requires_grad=True), grad=tensor([ 0.0459, -0.0421, -0.0424, -0.0477, -0.0410]) (0.7862288951873779s)\n",
      "Epoch=83, f_w=tensor([-2872.9521], grad_fn=<AddBackward0>), weights=tensor([ 8.4015, -0.8804, -0.8593, -0.9120, -0.8491], requires_grad=True), grad=tensor([ 0.0457, -0.0420, -0.0423, -0.0477, -0.0410]) (0.803210973739624s)\n",
      "Epoch=84, f_w=tensor([-2872.9524], grad_fn=<AddBackward0>), weights=tensor([ 8.4013, -0.8802, -0.8591, -0.9118, -0.8489], requires_grad=True), grad=tensor([ 0.0454, -0.0420, -0.0423, -0.0477, -0.0410]) (0.8006100654602051s)\n",
      "Epoch=85, f_w=tensor([-2872.9526], grad_fn=<AddBackward0>), weights=tensor([ 8.4012, -0.8801, -0.8590, -0.9117, -0.8488], requires_grad=True), grad=tensor([ 0.0454, -0.0420, -0.0423, -0.0476, -0.0409]) (0.7803521156311035s)\n",
      "Epoch=86, f_w=tensor([-2872.9529], grad_fn=<AddBackward0>), weights=tensor([ 8.4010, -0.8800, -0.8588, -0.9115, -0.8486], requires_grad=True), grad=tensor([ 0.0450, -0.0419, -0.0423, -0.0476, -0.0409]) (0.7945749759674072s)\n",
      "Epoch=87, f_w=tensor([-2872.9531], grad_fn=<AddBackward0>), weights=tensor([ 8.4009, -0.8798, -0.8587, -0.9113, -0.8485], requires_grad=True), grad=tensor([ 0.0451, -0.0419, -0.0422, -0.0476, -0.0409]) (0.7969191074371338s)\n",
      "Epoch=88, f_w=tensor([-2872.9529], grad_fn=<AddBackward0>), weights=tensor([ 8.4007, -0.8797, -0.8586, -0.9112, -0.8484], requires_grad=True), grad=tensor([ 0.0449, -0.0419, -0.0422, -0.0475, -0.0408]) (0.7859022617340088s)\n",
      "Epoch=89, f_w=tensor([-2872.9531], grad_fn=<AddBackward0>), weights=tensor([ 8.4005, -0.8795, -0.8584, -0.9110, -0.8482], requires_grad=True), grad=tensor([ 0.0448, -0.0418, -0.0422, -0.0475, -0.0408]) (0.7904200553894043s)\n",
      "Epoch=90, f_w=tensor([-2872.9536], grad_fn=<AddBackward0>), weights=tensor([ 8.4004, -0.8794, -0.8583, -0.9109, -0.8481], requires_grad=True), grad=tensor([ 0.0446, -0.0418, -0.0421, -0.0475, -0.0408]) (0.8047678470611572s)\n",
      "Epoch=91, f_w=tensor([-2872.9539], grad_fn=<AddBackward0>), weights=tensor([ 8.4002, -0.8793, -0.8581, -0.9107, -0.8480], requires_grad=True), grad=tensor([ 0.0443, -0.0418, -0.0421, -0.0474, -0.0407]) (0.7689368724822998s)\n",
      "Epoch=92, f_w=tensor([-2872.9541], grad_fn=<AddBackward0>), weights=tensor([ 8.4001, -0.8791, -0.8580, -0.9106, -0.8478], requires_grad=True), grad=tensor([ 0.0442, -0.0417, -0.0421, -0.0474, -0.0407]) (0.783538818359375s)\n",
      "Epoch=93, f_w=tensor([-2872.9543], grad_fn=<AddBackward0>), weights=tensor([ 8.4000, -0.8790, -0.8579, -0.9104, -0.8477], requires_grad=True), grad=tensor([ 0.0442, -0.0417, -0.0420, -0.0474, -0.0407]) (0.7947721481323242s)\n",
      "Epoch=94, f_w=tensor([-2872.9543], grad_fn=<AddBackward0>), weights=tensor([ 8.3998, -0.8788, -0.8577, -0.9102, -0.8476], requires_grad=True), grad=tensor([ 0.0440, -0.0417, -0.0420, -0.0473, -0.0406]) (0.7997927665710449s)\n",
      "Epoch=95, f_w=tensor([-2872.9546], grad_fn=<AddBackward0>), weights=tensor([ 8.3997, -0.8787, -0.8576, -0.9101, -0.8474], requires_grad=True), grad=tensor([ 0.0438, -0.0417, -0.0420, -0.0473, -0.0406]) (0.7737360000610352s)\n",
      "Epoch=96, f_w=tensor([-2872.9548], grad_fn=<AddBackward0>), weights=tensor([ 8.3995, -0.8786, -0.8574, -0.9099, -0.8473], requires_grad=True), grad=tensor([ 0.0436, -0.0416, -0.0419, -0.0473, -0.0406]) (0.7993621826171875s)\n",
      "Epoch=97, f_w=tensor([-2872.9548], grad_fn=<AddBackward0>), weights=tensor([ 8.3994, -0.8784, -0.8573, -0.9098, -0.8471], requires_grad=True), grad=tensor([ 0.0434, -0.0416, -0.0419, -0.0472, -0.0406]) (0.7964627742767334s)\n",
      "Epoch=98, f_w=tensor([-2872.9551], grad_fn=<AddBackward0>), weights=tensor([ 8.3992, -0.8783, -0.8571, -0.9096, -0.8470], requires_grad=True), grad=tensor([ 0.0432, -0.0416, -0.0419, -0.0472, -0.0405]) (0.7830569744110107s)\n",
      "Epoch=99, f_w=tensor([-2872.9553], grad_fn=<AddBackward0>), weights=tensor([ 8.3991, -0.8781, -0.8570, -0.9094, -0.8469], requires_grad=True), grad=tensor([ 0.0431, -0.0415, -0.0419, -0.0472, -0.0405]) (0.7828280925750732s)\n",
      "Optimised weights are tensor([ 8.3989, -0.8780, -0.8569, -0.9093, -0.8467], requires_grad=True)\n",
      "Loading graph PageRank...\n"
     ]
    },
    {
     "name": "stderr",
     "output_type": "stream",
     "text": [
      "No handles with labels found to put in legend.\n",
      "No handles with labels found to put in legend.\n"
     ]
    },
    {
     "data": {
      "image/png": "[encoded data removed]",
      "text/plain": [
       "<Figure size 432x288 with 2 Axes>"
      ]
     },
     "metadata": {},
     "output_type": "display_data"
    }
   ],
   "source": [
    "# Introduce bias for first |nnodes|/2 nodes in graph, where all edges to the bias nodes are 'red' (equivalent to the vector [1,0,0,0,0])\n",
    "train_feat = feat_matrix\n",
    "train_feat[0:ntrain-1,0:(ntrain//2)-1,:] = th.tensor([1, 0, 0, 0, 0], dtype=th.float, device=device)\n",
    "\n",
    "# Biased synthetic training data set for first ntrain nodes\n",
    "train_feat = th.narrow(train_feat, 0, 0, ntrain)\n",
    "train_feat = th.narrow(train_feat, 1, 0, ntrain)  \n",
    "\n",
    "# Limiting index for bias nodes\n",
    "limit_ind = int(ntrain//2)\n",
    "\n",
    "# Find optimised weights for training set\n",
    "print('Loading optimised weights...')\n",
    "bias_train = GradDescent(train_feat, device, limit_ind)\n",
    "opt_weights = bias_train.grad_iterator()\n",
    "print('Optimised weights are {}'.format(opt_weights))\n",
    "\n",
    "# Full personalised PageRank on whole data set using optimised weights\n",
    "print('Loading graph PageRank...')\n",
    "source_node = random.randint(0, nnodes)\n",
    "full_ranker = Ranker(nnodes, nfeats, opt_weights, feat_matrix, device)\n",
    "rw_matrix = full_ranker.rw_matrix()\n",
    "p_scores = full_ranker.rwr_iter(rw_matrix, source_node) \n",
    "p_scores = th.transpose(p_scores, 0, 1)\n",
    "\n",
    "# Order PageRank scores in descending order\n",
    "scores_i = {i: p_scores[i] for i in range(nnodes)}\n",
    "new_ranking = sorted(scores_i, key=scores_i.get, reverse=True)\n",
    "\n",
    "# Check graph of bias node ranking \n",
    "step = 0\n",
    "steps = []\n",
    "intersection = []\n",
    "bias_nodes = set(range(ntrain//2))\n",
    "while step < nnodes:\n",
    "    steps.append(step)\n",
    "    numb = len(set(new_ranking[:step]).intersection(bias_nodes))\n",
    "    intersection.append(numb)\n",
    "    step += 5\n",
    "\n",
    "#Plot graph\n",
    "fig, axes = plt.subplots(1, 2)\n",
    "\n",
    "axes[0].plot(steps, intersection)\n",
    "axes[1].plot(steps, intersection)\n",
    "\n",
    "axes[0].legend(loc='lower right')\n",
    "axes[0].set_xlabel('Total number of nodes considered')\n",
    "axes[0].set_ylabel('Number of nodes found in bias list')\n",
    "axes[0].set_title('Similarity ranking for synthetic KG')\n",
    "axes[1].set_xlabel('Log scale')\n",
    "axes[1].legend(loc='upper left')\n",
    "axes[1].set_xscale('log')\n",
    "plt.show()"
   ]
  },
  {
   "cell_type": "code",
   "execution_count": null,
   "metadata": {},
   "outputs": [],
   "source": []
  }
 ],
 "metadata": {
  "accelerator": "GPU",
  "celltoolbar": "Raw Cell Format",
  "colab": {
   "collapsed_sections": [],
   "name": "mw_pagerank_test.ipynb",
   "provenance": [],
   "version": "0.3.2"
  },
  "kernelspec": {
   "display_name": "Python 3",
   "language": "python",
   "name": "python3"
  },
  "language_info": {
   "codemirror_mode": {
    "name": "ipython",
    "version": 3
   },
   "file_extension": ".py",
   "mimetype": "text/x-python",
   "name": "python",
   "nbconvert_exporter": "python",
   "pygments_lexer": "ipython3",
   "version": "3.8.3"
  }
 },
 "nbformat": 4,
 "nbformat_minor": 4
}
